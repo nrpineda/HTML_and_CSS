{
 "cells": [
  {
   "cell_type": "code",
   "execution_count": 29,
   "id": "5ec8295a",
   "metadata": {},
   "outputs": [],
   "source": [
    "# Import Splinter and BeautifulSoup\n",
    "from splinter import Browser\n",
    "from bs4 import BeautifulSoup as soup\n",
    "from webdriver_manager.chrome import ChromeDriverManager\n",
    "import pandas as pd"
   ]
  },
  {
   "cell_type": "code",
   "execution_count": 2,
   "id": "3bfb57d2",
   "metadata": {},
   "outputs": [
    {
     "data": {
      "text/plain": [
       "True"
      ]
     },
     "execution_count": 2,
     "metadata": {},
     "output_type": "execute_result"
    }
   ],
   "source": [
    "# Set the executable path\n",
    "executable_path = {'executable_path': ChromeDriverManager().install()}\n",
    "browser = Browser('chrome', **executable_path, headless=False)\n",
    "\n",
    "# Visit the Mars NASA news site\n",
    "url = 'https://redplanetscience.com'\n",
    "browser.visit(url)\n",
    "# Optional delay for loading the page\n",
    "browser.is_element_present_by_css('div.list_text', wait_time=1)"
   ]
  },
  {
   "cell_type": "code",
   "execution_count": 28,
   "id": "9f5a6167",
   "metadata": {},
   "outputs": [],
   "source": [
    "# Set up the HTML parser\n",
    "html= browser.html\n",
    "title_soup = soup(html, 'html.parser')\n",
    "art_preview = title_soup.select('div.list_text')"
   ]
  },
  {
   "cell_type": "code",
   "execution_count": 34,
   "id": "6b899f71",
   "metadata": {},
   "outputs": [
    {
     "name": "stdout",
     "output_type": "stream",
     "text": [
      "Global Storms on Mars Launch Dust Towers Into the Sky\n",
      "NASA Updates Mars 2020 Mission Environmental Review\n",
      "NASA Readies Perseverance Mars Rover's Earthly Twin \n",
      "3 Things We've Learned From NASA's Mars InSight \n",
      "From JPL's Mailroom to Mars and Beyond\n",
      "NASA Mars Mission Connects With Bosnian and Herzegovinian Town\n",
      "Mars InSight Lander to Push on Top of the 'Mole'\n",
      "NASA-JPL Names 'Rolling Stones Rock' on Mars\n",
      "Join NASA for the Launch of the Mars 2020 Perseverance Rover\n",
      "NASA InSight's 'Mole' Is Out of Sight\n",
      "Three New Views of Mars' Moon Phobos\n",
      "NASA's Mars Reconnaissance Orbiter Undergoes Memory Update\n",
      "InSight's 'Mole' Team Peers into the Pit\n",
      "Common Questions about InSight's 'Mole'\n",
      "NASA's Treasure Map for Water Ice on Mars\n"
     ]
    }
   ],
   "source": [
    "# Scrape all the quotes on a single page\n",
    "main_titles = title_soup.find_all('div', class_='content_title')\n",
    "\n",
    "for main_title in main_titles:\n",
    "    print(main_title.text)"
   ]
  },
  {
   "cell_type": "code",
   "execution_count": 35,
   "id": "ddc41501",
   "metadata": {},
   "outputs": [
    {
     "name": "stdout",
     "output_type": "stream",
     "text": [
      "A Mars Dust Tower Stands Out Dust storms are common on Mars. But every decade or so, something unpredictable happens: a series of runaway storms break out, covering the entire planet in a dusty haze.\n",
      "NASA and the Department of Energy have completed a more detailed risk analysis for the Mars 2020 rover launch from Florida.\n",
      "Did you know NASA's next Mars rover has a nearly identical sibling on Earth for testing? Even better, it's about to roll for the first time through a replica Martian landscape.\n",
      "Scientists are finding new mysteries since the geophysics mission landed two years ago.\n",
      "Bill Allen has thrived as the mechanical systems design lead for three Mars rover missions, but he got his start as a teenager sorting letters for the NASA center.\n",
      "A letter from NASA was presented to the mayor of Jezero, Bosnia-Herzegovina, honoring the connection between the town and Jezero Crater, the Mars 2020 rover landing site.\n",
      "Engineers have a plan for pushing down on the heat probe, which has been stuck at the Martian surface for a year.\n",
      "NASA's Mars InSight mission honored one of the biggest bands of all time at Pasadena concert.\n",
      "No matter where you live, choose from a menu of activities to join NASA as we \"Countdown to Mars\" and launch the Perseverance rover to the Red Planet.\n",
      "Now that the heat probe is just below the Martian surface, InSight's arm will scoop some additional soil on top to help it keep digging so it can take Mars' temperature.\n",
      "Taken with the infrared camera aboard NASA's Odyssey orbiter, they reveal temperature variations on the small moon as it drifts into and out of Mars’ shadow.\n",
      "Other orbiters will continue relaying data from Mars surface missions for a two-week period.\n",
      "Efforts to save the heat probe continue.\n",
      "The following Q&As with members of the team answer some of the most common questions about the burrowing device, part of a science instrument called the Heat Flow and Physical Properties Package (HP3).\n",
      "A new study identifies frozen water just below the Martian surface, where astronauts could easily dig it up.\n"
     ]
    }
   ],
   "source": [
    "# Scrape all the summaries on a single page\n",
    "summaries = title_soup.find_all('div', class_='article_teaser_body')\n",
    "\n",
    "for summary in summaries:\n",
    "    print(summary.text)"
   ]
  },
  {
   "cell_type": "code",
   "execution_count": 44,
   "id": "408ff384",
   "metadata": {},
   "outputs": [
    {
     "name": "stdout",
     "output_type": "stream",
     "text": [
      "{'title': 'main_title', 'preview': 'summaries'}\n"
     ]
    }
   ],
   "source": [
    "articles_dic = {}\n",
    "\n",
    "articles_dic[\"title\"]= \"main_title\"\n",
    "articles_dic[\"preview\"] = \"summaries\"\n",
    "\n",
    "print(articles_dic)"
   ]
  },
  {
   "cell_type": "code",
   "execution_count": null,
   "id": "fc055fec",
   "metadata": {},
   "outputs": [],
   "source": []
  }
 ],
 "metadata": {
  "kernelspec": {
   "display_name": "Python 3 (ipykernel)",
   "language": "python",
   "name": "python3"
  },
  "language_info": {
   "codemirror_mode": {
    "name": "ipython",
    "version": 3
   },
   "file_extension": ".py",
   "mimetype": "text/x-python",
   "name": "python",
   "nbconvert_exporter": "python",
   "pygments_lexer": "ipython3",
   "version": "3.7.13"
  }
 },
 "nbformat": 4,
 "nbformat_minor": 5
}
