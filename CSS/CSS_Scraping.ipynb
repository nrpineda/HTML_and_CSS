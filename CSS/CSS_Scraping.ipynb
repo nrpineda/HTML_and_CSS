{
 "cells": [
  {
   "cell_type": "code",
   "execution_count": null,
   "id": "3bdec198",
   "metadata": {},
   "outputs": [],
   "source": [
    "!pip uninstall webdriver_manager\n",
    "!pip install git+https://github.com/SergeyPirogov/webdriver_manager@master"
   ]
  },
  {
   "cell_type": "code",
   "execution_count": null,
   "id": "57999652",
   "metadata": {},
   "outputs": [],
   "source": [
    "from splinter import Browser\n",
    "from bs4 import BeautifulSoup as soup"
   ]
  },
  {
   "cell_type": "code",
   "execution_count": null,
   "id": "e31191bf",
   "metadata": {},
   "outputs": [],
   "source": [
    "#Set up Splinter\n",
    "executable_path = {'executable_path': ChromeDriverManager().install()}\n",
    "browser = Browser('chrome', **executable_path, headless=False)"
   ]
  },
  {
   "cell_type": "code",
   "execution_count": null,
   "id": "abb07353",
   "metadata": {},
   "outputs": [],
   "source": [
    "url = \"https://stackoverflow.com/questions/tagged/python?sort=MostVotes&edited=true\""
   ]
  },
  {
   "cell_type": "code",
   "execution_count": null,
   "id": "d38dfce7",
   "metadata": {},
   "outputs": [],
   "source": [
    "browser.visit(url)\n",
    "html = browser.html\n",
    "soup = BeautifulSoup(html, 'html.parser')"
   ]
  },
  {
   "cell_type": "code",
   "execution_count": null,
   "id": "a6a31bab",
   "metadata": {},
   "outputs": [],
   "source": [
    "question = soup.find_all('a', class_='s-link')\n",
    "print(question)"
   ]
  },
  {
   "cell_type": "code",
   "execution_count": null,
   "id": "8691be28",
   "metadata": {},
   "outputs": [],
   "source": [
    "question_id = soup.find('div', id=\"question-summary-231767\")\n",
    "print(question_id)"
   ]
  },
  {
   "cell_type": "code",
   "execution_count": null,
   "id": "83660c07",
   "metadata": {},
   "outputs": [],
   "source": [
    "question_id.find('div', class_=\"s-post-summary--content-excerpt\")\n",
    "print(excerpt.text)"
   ]
  },
  {
   "cell_type": "code",
   "execution_count": null,
   "id": "633ff47f",
   "metadata": {},
   "outputs": [],
   "source": [
    "question_id.find(class_=\"s-post-summary--stats-items\")\n",
    "print(votes.text)"
   ]
  },
  {
   "cell_type": "code",
   "execution_count": null,
   "id": "25307e62",
   "metadata": {},
   "outputs": [],
   "source": []
  }
 ],
 "metadata": {
  "kernelspec": {
   "display_name": "Python 3 (ipykernel)",
   "language": "python",
   "name": "python3"
  },
  "language_info": {
   "codemirror_mode": {
    "name": "ipython",
    "version": 3
   },
   "file_extension": ".py",
   "mimetype": "text/x-python",
   "name": "python",
   "nbconvert_exporter": "python",
   "pygments_lexer": "ipython3",
   "version": "3.7.13"
  }
 },
 "nbformat": 4,
 "nbformat_minor": 5
}
