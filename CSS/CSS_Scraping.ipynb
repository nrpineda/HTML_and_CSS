{
 "cells": [
  {
   "cell_type": "code",
   "execution_count": 5,
   "id": "3bdec198",
   "metadata": {},
   "outputs": [
    {
     "name": "stdout",
     "output_type": "stream",
     "text": [
      "^C\n",
      "Collecting git+https://github.com/SergeyPirogov/webdriver_manager@master\n",
      "  Cloning https://github.com/SergeyPirogov/webdriver_manager (to revision master) to c:\\users\\nrpin\\appdata\\local\\temp\\pip-req-build-r64032v1\n",
      "  Resolved https://github.com/SergeyPirogov/webdriver_manager to commit d39033e3fa4895599b9cfd0a15b76de9167dfe63\n",
      "Requirement already satisfied: requests in c:\\users\\nrpin\\anaconda3\\lib\\site-packages (from webdriver-manager==3.8.5) (2.27.1)\n",
      "Requirement already satisfied: python-dotenv in c:\\users\\nrpin\\anaconda3\\lib\\site-packages (from webdriver-manager==3.8.5) (0.21.0)\n",
      "Requirement already satisfied: tqdm in c:\\users\\nrpin\\anaconda3\\lib\\site-packages (from webdriver-manager==3.8.5) (4.64.0)\n",
      "Requirement already satisfied: packaging in c:\\users\\nrpin\\anaconda3\\lib\\site-packages (from webdriver-manager==3.8.5) (21.3)\n",
      "Requirement already satisfied: pyparsing!=3.0.5,>=2.0.2 in c:\\users\\nrpin\\anaconda3\\lib\\site-packages (from packaging->webdriver-manager==3.8.5) (3.0.4)\n",
      "Requirement already satisfied: charset-normalizer~=2.0.0 in c:\\users\\nrpin\\anaconda3\\lib\\site-packages (from requests->webdriver-manager==3.8.5) (2.0.4)\n",
      "Requirement already satisfied: certifi>=2017.4.17 in c:\\users\\nrpin\\anaconda3\\lib\\site-packages (from requests->webdriver-manager==3.8.5) (2021.10.8)\n",
      "Requirement already satisfied: urllib3<1.27,>=1.21.1 in c:\\users\\nrpin\\anaconda3\\lib\\site-packages (from requests->webdriver-manager==3.8.5) (1.26.9)\n",
      "Requirement already satisfied: idna<4,>=2.5 in c:\\users\\nrpin\\anaconda3\\lib\\site-packages (from requests->webdriver-manager==3.8.5) (3.3)\n",
      "Requirement already satisfied: colorama in c:\\users\\nrpin\\anaconda3\\lib\\site-packages (from tqdm->webdriver-manager==3.8.5) (0.4.4)\n"
     ]
    },
    {
     "name": "stderr",
     "output_type": "stream",
     "text": [
      "  Running command git clone -q https://github.com/SergeyPirogov/webdriver_manager 'C:\\Users\\nrpin\\AppData\\Local\\Temp\\pip-req-build-r64032v1'\n"
     ]
    }
   ],
   "source": [
    "!pip uninstall webdriver_manager\n",
    "!pip install git+https://github.com/SergeyPirogov/webdriver_manager@master"
   ]
  },
  {
   "cell_type": "code",
   "execution_count": 3,
   "id": "57999652",
   "metadata": {},
   "outputs": [],
   "source": [
    "from splinter import Browser\n",
    "from bs4 import BeautifulSoup as soup"
   ]
  },
  {
   "cell_type": "code",
   "execution_count": 4,
   "id": "e31191bf",
   "metadata": {},
   "outputs": [
    {
     "ename": "NameError",
     "evalue": "name 'ChromeDriverManager' is not defined",
     "output_type": "error",
     "traceback": [
      "\u001b[1;31m---------------------------------------------------------------------------\u001b[0m",
      "\u001b[1;31mNameError\u001b[0m                                 Traceback (most recent call last)",
      "Input \u001b[1;32mIn [4]\u001b[0m, in \u001b[0;36m<cell line: 2>\u001b[1;34m()\u001b[0m\n\u001b[0;32m      1\u001b[0m \u001b[38;5;66;03m#Set up Splinter\u001b[39;00m\n\u001b[1;32m----> 2\u001b[0m executable_path \u001b[38;5;241m=\u001b[39m {\u001b[38;5;124m'\u001b[39m\u001b[38;5;124mexecutable_path\u001b[39m\u001b[38;5;124m'\u001b[39m: \u001b[43mChromeDriverManager\u001b[49m()\u001b[38;5;241m.\u001b[39minstall()}\n\u001b[0;32m      3\u001b[0m browser \u001b[38;5;241m=\u001b[39m Browser(\u001b[38;5;124m'\u001b[39m\u001b[38;5;124mchrome\u001b[39m\u001b[38;5;124m'\u001b[39m, \u001b[38;5;241m*\u001b[39m\u001b[38;5;241m*\u001b[39mexecutable_path, headless\u001b[38;5;241m=\u001b[39m\u001b[38;5;28;01mFalse\u001b[39;00m)\n",
      "\u001b[1;31mNameError\u001b[0m: name 'ChromeDriverManager' is not defined"
     ]
    }
   ],
   "source": [
    "#Set up Splinter\n",
    "executable_path = {'executable_path': ChromeDriverManager().install()}\n",
    "browser = Browser('chrome', **executable_path, headless=False)"
   ]
  },
  {
   "cell_type": "code",
   "execution_count": null,
   "id": "abb07353",
   "metadata": {},
   "outputs": [],
   "source": [
    "url = \"https://stackoverflow.com/questions/tagged/python?sort=MostVotes&edited=true\""
   ]
  },
  {
   "cell_type": "code",
   "execution_count": null,
   "id": "d38dfce7",
   "metadata": {},
   "outputs": [],
   "source": [
    "browser.visit(url)\n",
    "html = browser.html\n",
    "soup = BeautifulSoup(html, 'html.parser')"
   ]
  },
  {
   "cell_type": "code",
   "execution_count": null,
   "id": "a6a31bab",
   "metadata": {},
   "outputs": [],
   "source": [
    "question = soup.find_all('a', class_='s-link')\n",
    "print(question)"
   ]
  },
  {
   "cell_type": "code",
   "execution_count": null,
   "id": "8691be28",
   "metadata": {},
   "outputs": [],
   "source": [
    "question_id = soup.find('div', id=\"question-summary-231767\")\n",
    "print(question_id)"
   ]
  },
  {
   "cell_type": "code",
   "execution_count": null,
   "id": "83660c07",
   "metadata": {},
   "outputs": [],
   "source": [
    "question_id.find('div', class_=\"s-post-summary--content-excerpt\")\n",
    "print(excerpt.text)"
   ]
  },
  {
   "cell_type": "code",
   "execution_count": null,
   "id": "633ff47f",
   "metadata": {},
   "outputs": [],
   "source": [
    "question_id.find(class_=\"s-post-summary--stats-items\")\n",
    "print(votes.text)"
   ]
  },
  {
   "cell_type": "code",
   "execution_count": null,
   "id": "25307e62",
   "metadata": {},
   "outputs": [],
   "source": []
  }
 ],
 "metadata": {
  "kernelspec": {
   "display_name": "Python 3 (ipykernel)",
   "language": "python",
   "name": "python3"
  },
  "language_info": {
   "codemirror_mode": {
    "name": "ipython",
    "version": 3
   },
   "file_extension": ".py",
   "mimetype": "text/x-python",
   "name": "python",
   "nbconvert_exporter": "python",
   "pygments_lexer": "ipython3",
   "version": "3.9.12"
  }
 },
 "nbformat": 4,
 "nbformat_minor": 5
}
