{
 "cells": [
  {
   "cell_type": "code",
   "execution_count": 1,
   "id": "1f87502f",
   "metadata": {},
   "outputs": [],
   "source": [
    "# Import Splinter and BeautifulSoup\n",
    "from splinter import Browser\n",
    "from bs4 import BeautifulSoup as soup\n",
    "from webdriver_manager.chrome import ChromeDriverManager\n",
    "import pandas as pd"
   ]
  },
  {
   "cell_type": "code",
   "execution_count": 2,
   "id": "ab33dcf2",
   "metadata": {},
   "outputs": [
    {
     "name": "stderr",
     "output_type": "stream",
     "text": [
      "[WDM] - Downloading: 100%|████████████████████████████████████████████████████████| 6.46M/6.46M [00:00<00:00, 34.4MB/s]\n"
     ]
    },
    {
     "data": {
      "text/plain": [
       "True"
      ]
     },
     "execution_count": 2,
     "metadata": {},
     "output_type": "execute_result"
    }
   ],
   "source": [
    "# Set the executable path\n",
    "executable_path = {'executable_path': ChromeDriverManager().install()}\n",
    "browser = Browser('chrome', **executable_path, headless=False)\n",
    "\n",
    "# Visit the Mars NASA news site\n",
    "url = 'https://redplanetscience.com'\n",
    "browser.visit(url)\n",
    "# Optional delay for loading the page\n",
    "browser.is_element_present_by_css('div.list_text', wait_time=1)"
   ]
  },
  {
   "cell_type": "code",
   "execution_count": 3,
   "id": "8aafa53d",
   "metadata": {},
   "outputs": [],
   "source": [
    "# Set up the HTML parser\n",
    "html= browser.html\n",
    "title_soup = soup(html, 'html.parser')\n",
    "art_preview = title_soup.select('div.list_text')"
   ]
  },
  {
   "cell_type": "code",
   "execution_count": 4,
   "id": "67ed66a1",
   "metadata": {},
   "outputs": [
    {
     "name": "stdout",
     "output_type": "stream",
     "text": [
      "NASA's Mars 2020 Heads Into the Test Chamber\n",
      "NASA Prepares for Moon and Mars With New Addition to Its Deep Space Network\n",
      "NASA's Push to Save the Mars InSight Lander's Heat Probe\n",
      "What's Mars Solar Conjunction, and Why Does It Matter?\n",
      "NASA's Perseverance Rover Will Look at Mars Through These 'Eyes'\n",
      "NASA's Mars Perseverance Rover Passes Flight Readiness Review\n",
      "Two Rovers to Roll on Mars Again: Curiosity and Mars 2020\n",
      "NASA Wins 4 Webbys, 4 People's Voice Awards\n",
      "Mars 2020 Unwrapped and Ready for More Testing\n",
      "Follow NASA's Perseverance Rover in Real Time on Its Way to Mars\n",
      "NASA to Hold Mars 2020 Perseverance Rover Launch Briefing\n",
      "NASA to Broadcast Mars 2020 Perseverance Launch, Prelaunch Activities\n",
      "Virginia Middle School Student Earns Honor of Naming NASA's Next Mars Rover\n",
      "NASA's Curiosity Mars Rover Snaps Its Highest-Resolution Panorama Yet\n",
      "NASA's Mars 2020 Rover Goes Coast-to-Coast to Prep for Launch\n"
     ]
    }
   ],
   "source": [
    "# Scrape all the quotes on a single page\n",
    "main_titles = title_soup.find_all('div', class_='content_title')\n",
    "\n",
    "for main_title in main_titles:\n",
    "    print(main_title.text)"
   ]
  },
  {
   "cell_type": "code",
   "execution_count": 5,
   "id": "929b6e2a",
   "metadata": {},
   "outputs": [
    {
     "name": "stdout",
     "output_type": "stream",
     "text": [
      "In this time-lapse video taken at JPL, engineers move the Mars 2020 rover into a large vacuum chamber for testing in Mars-like environmental conditions.\n",
      "Robotic spacecraft will be able to communicate with the dish using radio waves and lasers.\n",
      "The scoop on the end of the spacecraft's robotic arm will be used to 'pin' the mole against the wall of its hole.\n",
      "NASA spacecraft at Mars are going to be on their own for a few weeks when the Sun comes between Mars and Earth, interrupting communications.\n",
      "A pair of zoomable cameras will help scientists and rover drivers with high-resolution color images.\n",
      "​The agency's Mars 2020 mission has one more big prelaunch review – the Launch Readiness Review, on July 27.\n",
      "They look like twins. But under the hood, the rover currently exploring the Red Planet and the one launching there this summer have distinct science tools and roles to play.\n",
      "Winners include the JPL-managed \"Send Your Name to Mars\" campaign, NASA's Global Climate Change website and Solar System Interactive.\n",
      "In time-lapse video, bunny-suited engineers remove the inner layer of protective foil on NASA's Mars 2020 rover after it was relocated for testing.\n",
      "A crisply rendered web application can show you where the agency's Mars 2020 mission is right now as it makes its way to the Red Planet for a Feb. 18, 2021, landing.\n",
      "Learn more about the agency's next Red Planet mission during a live event on June 17.\n",
      "Starting July 27, news activities will cover everything from mission engineering and science to returning samples from Mars to, of course, the launch itself.\n",
      "NASA chose a seventh-grader from Virginia as winner of the agency's \"Name the Rover\" essay contest. Alexander Mather's entry for \"Perseverance\" was voted tops among 28,000 entries. \n",
      "To go along with the stunning 1.8-billion-pixel image, a new video offers a sweeping view of the Red Planet.\n",
      "The agency's first step in returning rocks from Mars just arrived at Kennedy Space Center. The Mars 2020 team now begins readying for a launch to the Red Planet this July.\n"
     ]
    }
   ],
   "source": [
    "# Scrape all the summaries on a single page\n",
    "summaries = title_soup.find_all('div', class_='article_teaser_body')\n",
    "\n",
    "for summary in summaries:\n",
    "    print(summary.text)"
   ]
  },
  {
   "cell_type": "code",
   "execution_count": 6,
   "id": "dcd52dc0",
   "metadata": {},
   "outputs": [
    {
     "name": "stdout",
     "output_type": "stream",
     "text": [
      "{}\n"
     ]
    }
   ],
   "source": [
    "articles_dic = {}\n",
    "\n",
    "print(articles_dic)"
   ]
  },
  {
   "cell_type": "code",
   "execution_count": null,
   "id": "2c765ee6",
   "metadata": {},
   "outputs": [],
   "source": []
  }
 ],
 "metadata": {
  "kernelspec": {
   "display_name": "Python 3 (ipykernel)",
   "language": "python",
   "name": "python3"
  },
  "language_info": {
   "codemirror_mode": {
    "name": "ipython",
    "version": 3
   },
   "file_extension": ".py",
   "mimetype": "text/x-python",
   "name": "python",
   "nbconvert_exporter": "python",
   "pygments_lexer": "ipython3",
   "version": "3.7.13"
  }
 },
 "nbformat": 4,
 "nbformat_minor": 5
}
