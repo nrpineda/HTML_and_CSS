{
 "cells": [
  {
   "cell_type": "markdown",
   "metadata": {},
   "source": [
    "# Module 12 Challenge\n",
    "## Deliverable 1: Scrape Titles and Preview Text from Mars News"
   ]
  },
  {
   "cell_type": "code",
   "execution_count": 60,
   "metadata": {},
   "outputs": [],
   "source": [
    "# Import Splinter and BeautifulSoup\n",
    "from splinter import Browser\n",
    "from bs4 import BeautifulSoup as soup\n",
    "from webdriver_manager.chrome import ChromeDriverManager\n",
    "import pandas as pd\n",
    "import json "
   ]
  },
  {
   "cell_type": "code",
   "execution_count": 2,
   "metadata": {
    "scrolled": true
   },
   "outputs": [],
   "source": [
    "executable_path = {'executable_path': ChromeDriverManager().install()}\n",
    "browser = Browser('chrome', **executable_path, headless=False)"
   ]
  },
  {
   "cell_type": "markdown",
   "metadata": {},
   "source": [
    "### Step 1: Visit the Website\n",
    "\n",
    "1. Use automated browsing to visit the [Mars NASA news site](https://redplanetscience.com). Inspect the page to identify which elements to scrape.\n",
    "\n",
    "      > **Hint** To identify which elements to scrape, you might want to inspect the page by using Chrome DevTools."
   ]
  },
  {
   "cell_type": "code",
   "execution_count": 3,
   "metadata": {},
   "outputs": [
    {
     "data": {
      "text/plain": [
       "True"
      ]
     },
     "execution_count": 3,
     "metadata": {},
     "output_type": "execute_result"
    }
   ],
   "source": [
    "# Visit the Mars NASA news site: https://redplanetscience.com\n",
    "url = 'https://redplanetscience.com'\n",
    "browser.visit(url)\n",
    "\n",
    "# Optional delay for loading the page\n",
    "browser.is_element_present_by_css('div.list_text', wait_time=1)"
   ]
  },
  {
   "cell_type": "markdown",
   "metadata": {},
   "source": [
    "### Step 2: Scrape the Website\n",
    "\n",
    "Create a Beautiful Soup object and use it to extract text elements from the website."
   ]
  },
  {
   "cell_type": "code",
   "execution_count": 6,
   "metadata": {},
   "outputs": [],
   "source": [
    "# 1. Create a Beautiful Soup object\n",
    "html = browser.html\n",
    "news_soup = soup(html, 'html.parser')\n",
    "slide_elem = news_soup.select_one('div.list_text')"
   ]
  },
  {
   "cell_type": "code",
   "execution_count": 11,
   "metadata": {
    "scrolled": true
   },
   "outputs": [
    {
     "name": "stdout",
     "output_type": "stream",
     "text": [
      "\n",
      "\n",
      "January 5, 2023\n",
      "NASA's New Mars Rover Will Use X-Rays to Hunt Fossils\n",
      "PIXL, an instrument on the end of the Perseverance rover's arm, will search for chemical fingerprints left by ancient microbes.\n",
      "\n",
      "\n"
     ]
    }
   ],
   "source": [
    "# 2. Extract all the text elements\n",
    "table = news_soup.find('div', class_='col-md-8').text\n",
    "print(table)"
   ]
  },
  {
   "cell_type": "code",
   "execution_count": 8,
   "metadata": {},
   "outputs": [
    {
     "name": "stdout",
     "output_type": "stream",
     "text": [
      "<div class=\"content_title\">NASA's New Mars Rover Will Use X-Rays to Hunt Fossils</div>\n"
     ]
    }
   ],
   "source": [
    "# assign the title and the summary text to variables that we can reference later\n",
    "title_elem = slide_elem.find('div', class_='content_title')\n",
    "print(title_elem)"
   ]
  },
  {
   "cell_type": "code",
   "execution_count": 9,
   "metadata": {},
   "outputs": [
    {
     "name": "stdout",
     "output_type": "stream",
     "text": [
      "NASA's New Mars Rover Will Use X-Rays to Hunt Fossils\n"
     ]
    }
   ],
   "source": [
    "# Extracting the title text\n",
    "title = title_elem.get_text()\n",
    "print(title)"
   ]
  },
  {
   "cell_type": "code",
   "execution_count": 10,
   "metadata": {},
   "outputs": [
    {
     "data": {
      "text/plain": [
       "\"PIXL, an instrument on the end of the Perseverance rover's arm, will search for chemical fingerprints left by ancient microbes.\""
      ]
     },
     "execution_count": 10,
     "metadata": {},
     "output_type": "execute_result"
    }
   ],
   "source": [
    "# Use the parent element to find the paragraph text\n",
    "# and extract the paragraph text\n",
    "preview = slide_elem.find('div', class_='article_teaser_body').text\n",
    "preview"
   ]
  },
  {
   "cell_type": "markdown",
   "metadata": {},
   "source": [
    "### Step 3: Store the Results\n",
    "\n",
    "Extract the titles and preview text of the news articles that you scraped. Store the scraping results in Python data structures as follows:\n",
    "\n",
    "* Store each title-and-preview pair in a Python dictionary. And, give each dictionary two keys: `title` and `preview`. An example is the following:\n",
    "\n",
    "  ```python\n",
    "  {'title': \"Mars Rover Begins Mission!\", \n",
    "        'preview': \"NASA's Mars Rover begins a multiyear mission to collect data about the little-explored planet.\"}\n",
    "  ```\n",
    "\n",
    "* Store all the dictionaries in a Python list.\n",
    "\n",
    "* Print the list in your notebook."
   ]
  },
  {
   "cell_type": "code",
   "execution_count": 54,
   "metadata": {
    "scrolled": true
   },
   "outputs": [
    {
     "name": "stdout",
     "output_type": "stream",
     "text": [
      "[<div class=\"content_title\">NASA's New Mars Rover Will Use X-Rays to Hunt Fossils</div>, <div class=\"content_title\">NASA Readies Perseverance Mars Rover's Earthly Twin </div>, <div class=\"content_title\">Global Storms on Mars Launch Dust Towers Into the Sky</div>, <div class=\"content_title\">3 Things We've Learned From NASA's Mars InSight </div>, <div class=\"content_title\">Sensors on Mars 2020 Spacecraft Answer Long-Distance Call From Earth</div>, <div class=\"content_title\">NASA's Perseverance Rover Is Midway to Mars </div>, <div class=\"content_title\">NASA Adds Return Sample Scientists to Mars 2020 Leadership Team</div>, <div class=\"content_title\">NASA's MAVEN Maps Winds in the Martian Upper Atmosphere that Mirror the Terrain Below and Gives Clues to Martian Climate</div>, <div class=\"content_title\">Robotic Toolkit Added to NASA's Mars 2020 Rover</div>, <div class=\"content_title\">Mars Scientists Investigate Ancient Life in Australia</div>, <div class=\"content_title\">NASA's Push to Save the Mars InSight Lander's Heat Probe</div>, <div class=\"content_title\">NASA-JPL Names 'Rolling Stones Rock' on Mars</div>, <div class=\"content_title\">My Culture, My Voice</div>, <div class=\"content_title\">Newfound Martian Aurora Actually the Most Common; Sheds Light on Mars' Changing Climate</div>, <div class=\"content_title\">While Stargazing on Mars, NASA's Curiosity Rover Spots Earth and Venus</div>]\n"
     ]
    }
   ],
   "source": [
    "# Find all divs that contain a content title (news)\n",
    "news_divs_title = news_soup.find_all('div', class_=\"content_title\")\n",
    "print(news_divs_title)"
   ]
  },
  {
   "cell_type": "code",
   "execution_count": 55,
   "metadata": {},
   "outputs": [
    {
     "name": "stdout",
     "output_type": "stream",
     "text": [
      "[<div class=\"article_teaser_body\">PIXL, an instrument on the end of the Perseverance rover's arm, will search for chemical fingerprints left by ancient microbes.</div>, <div class=\"article_teaser_body\">Did you know NASA's next Mars rover has a nearly identical sibling on Earth for testing? Even better, it's about to roll for the first time through a replica Martian landscape.</div>, <div class=\"article_teaser_body\">A Mars Dust Tower Stands Out Dust storms are common on Mars. But every decade or so, something unpredictable happens: a series of runaway storms break out, covering the entire planet in a dusty haze.</div>, <div class=\"article_teaser_body\">Scientists are finding new mysteries since the geophysics mission landed two years ago.</div>, <div class=\"article_teaser_body\">Instruments tailored to collect data during the descent of NASA's next rover through the Red Planet's atmosphere have been checked in flight.</div>, <div class=\"article_teaser_body\">Sometimes half measures can be a good thing – especially on a journey this long. The agency's latest rover only has about 146 million miles left to reach its destination.</div>, <div class=\"article_teaser_body\">The leadership council for Mars 2020 science added two new members who represent the interests of scientists destined to handle and study the first samples from Red Planet.</div>, <div class=\"article_teaser_body\">Researchers have created the first map of wind circulation in the upper atmosphere of a planet besides Earth, using data from NASA’s MAVEN spacecraft that were collected during the last two years.</div>, <div class=\"article_teaser_body\">The bit carousel, which lies at the heart of the rover's Sample Caching System, is now aboard NASA's newest rover. </div>, <div class=\"article_teaser_body\">Teams with NASA's Mars 2020 and ESA's ExoMars practiced hunting for fossilized microbial life in the Australian Outback in preparation for their Red Planet missions. </div>, <div class=\"article_teaser_body\">The scoop on the end of the spacecraft's robotic arm will be used to 'pin' the mole against the wall of its hole.</div>, <div class=\"article_teaser_body\">NASA's Mars InSight mission honored one of the biggest bands of all time at Pasadena concert.</div>, <div class=\"article_teaser_body\">In honor of Hispanic Heritage Month, Christina Hernandez, an instrument engineer on the Mars 2020 mission, talks about her childhood and journey to NASA.</div>, <div class=\"article_teaser_body\">A type of Martian aurora first identified by NASA’s MAVEN spacecraft in 2016 is actually the most common form of aurora occurring on the Red Planet, according to new results from the mission.</div>, <div class=\"article_teaser_body\">This new portrait of the Red Planet's neighbors was taken during a time when there's more dust in the air on Mars.</div>]\n"
     ]
    }
   ],
   "source": [
    "# Find all divs that contain a news content (body)\n",
    "news_divs_body = news_soup.find_all('div', class_=\"article_teaser_body\")\n",
    "print(news_divs_body)"
   ]
  },
  {
   "cell_type": "code",
   "execution_count": 47,
   "metadata": {},
   "outputs": [
    {
     "data": {
      "text/plain": [
       "{'Title': [<div class=\"content_title\">NASA's New Mars Rover Will Use X-Rays to Hunt Fossils</div>,\n",
       "  <div class=\"content_title\">NASA Readies Perseverance Mars Rover's Earthly Twin </div>,\n",
       "  <div class=\"content_title\">Global Storms on Mars Launch Dust Towers Into the Sky</div>,\n",
       "  <div class=\"content_title\">3 Things We've Learned From NASA's Mars InSight </div>,\n",
       "  <div class=\"content_title\">Sensors on Mars 2020 Spacecraft Answer Long-Distance Call From Earth</div>,\n",
       "  <div class=\"content_title\">NASA's Perseverance Rover Is Midway to Mars </div>,\n",
       "  <div class=\"content_title\">NASA Adds Return Sample Scientists to Mars 2020 Leadership Team</div>,\n",
       "  <div class=\"content_title\">NASA's MAVEN Maps Winds in the Martian Upper Atmosphere that Mirror the Terrain Below and Gives Clues to Martian Climate</div>,\n",
       "  <div class=\"content_title\">Robotic Toolkit Added to NASA's Mars 2020 Rover</div>,\n",
       "  <div class=\"content_title\">Mars Scientists Investigate Ancient Life in Australia</div>,\n",
       "  <div class=\"content_title\">NASA's Push to Save the Mars InSight Lander's Heat Probe</div>,\n",
       "  <div class=\"content_title\">NASA-JPL Names 'Rolling Stones Rock' on Mars</div>,\n",
       "  <div class=\"content_title\">My Culture, My Voice</div>,\n",
       "  <div class=\"content_title\">Newfound Martian Aurora Actually the Most Common; Sheds Light on Mars' Changing Climate</div>,\n",
       "  <div class=\"content_title\">While Stargazing on Mars, NASA's Curiosity Rover Spots Earth and Venus</div>],\n",
       " 'Preview': [<div class=\"article_teaser_body\">PIXL, an instrument on the end of the Perseverance rover's arm, will search for chemical fingerprints left by ancient microbes.</div>,\n",
       "  <div class=\"article_teaser_body\">Did you know NASA's next Mars rover has a nearly identical sibling on Earth for testing? Even better, it's about to roll for the first time through a replica Martian landscape.</div>,\n",
       "  <div class=\"article_teaser_body\">A Mars Dust Tower Stands Out Dust storms are common on Mars. But every decade or so, something unpredictable happens: a series of runaway storms break out, covering the entire planet in a dusty haze.</div>,\n",
       "  <div class=\"article_teaser_body\">Scientists are finding new mysteries since the geophysics mission landed two years ago.</div>,\n",
       "  <div class=\"article_teaser_body\">Instruments tailored to collect data during the descent of NASA's next rover through the Red Planet's atmosphere have been checked in flight.</div>,\n",
       "  <div class=\"article_teaser_body\">Sometimes half measures can be a good thing – especially on a journey this long. The agency's latest rover only has about 146 million miles left to reach its destination.</div>,\n",
       "  <div class=\"article_teaser_body\">The leadership council for Mars 2020 science added two new members who represent the interests of scientists destined to handle and study the first samples from Red Planet.</div>,\n",
       "  <div class=\"article_teaser_body\">Researchers have created the first map of wind circulation in the upper atmosphere of a planet besides Earth, using data from NASA’s MAVEN spacecraft that were collected during the last two years.</div>,\n",
       "  <div class=\"article_teaser_body\">The bit carousel, which lies at the heart of the rover's Sample Caching System, is now aboard NASA's newest rover. </div>,\n",
       "  <div class=\"article_teaser_body\">Teams with NASA's Mars 2020 and ESA's ExoMars practiced hunting for fossilized microbial life in the Australian Outback in preparation for their Red Planet missions. </div>,\n",
       "  <div class=\"article_teaser_body\">The scoop on the end of the spacecraft's robotic arm will be used to 'pin' the mole against the wall of its hole.</div>,\n",
       "  <div class=\"article_teaser_body\">NASA's Mars InSight mission honored one of the biggest bands of all time at Pasadena concert.</div>,\n",
       "  <div class=\"article_teaser_body\">In honor of Hispanic Heritage Month, Christina Hernandez, an instrument engineer on the Mars 2020 mission, talks about her childhood and journey to NASA.</div>,\n",
       "  <div class=\"article_teaser_body\">A type of Martian aurora first identified by NASA’s MAVEN spacecraft in 2016 is actually the most common form of aurora occurring on the Red Planet, according to new results from the mission.</div>,\n",
       "  <div class=\"article_teaser_body\">This new portrait of the Red Planet's neighbors was taken during a time when there's more dust in the air on Mars.</div>]}"
      ]
     },
     "execution_count": 47,
     "metadata": {},
     "output_type": "execute_result"
    }
   ],
   "source": [
    "# Create an empty list to store the dictionaries\n",
    "news_list = []\n",
    "# Loop through the text elements\n",
    "for news in news_divs:\n",
    "    news_title = news_divs_title\n",
    "    news_content = news_divs_body\n",
    "    \n",
    "    news_dict = {}\n",
    "    news_dict[\"Title\"] = news_title\n",
    "    news_dict[\"Preview\"] = news_content\n",
    "    \n",
    "    news_list.append(news_dict)\n",
    "    \n",
    "#news_list\n",
    "news_dict"
   ]
  },
  {
   "cell_type": "markdown",
   "metadata": {},
   "source": [
    "### (Optional) Step 4: Export the Data\n",
    "\n",
    "Optionally, store the scraped data in a file or database (to ease sharing the data with others). To do so, export the scraped data to either a JSON file or a MongoDB database."
   ]
  },
  {
   "cell_type": "code",
   "execution_count": 57,
   "metadata": {
    "scrolled": true
   },
   "outputs": [
    {
     "data": {
      "text/html": [
       "<div>\n",
       "<style scoped>\n",
       "    .dataframe tbody tr th:only-of-type {\n",
       "        vertical-align: middle;\n",
       "    }\n",
       "\n",
       "    .dataframe tbody tr th {\n",
       "        vertical-align: top;\n",
       "    }\n",
       "\n",
       "    .dataframe thead th {\n",
       "        text-align: right;\n",
       "    }\n",
       "</style>\n",
       "<table border=\"1\" class=\"dataframe\">\n",
       "  <thead>\n",
       "    <tr style=\"text-align: right;\">\n",
       "      <th></th>\n",
       "      <th>Title</th>\n",
       "      <th>Preview</th>\n",
       "    </tr>\n",
       "  </thead>\n",
       "  <tbody>\n",
       "    <tr>\n",
       "      <th>0</th>\n",
       "      <td>[NASA's New Mars Rover Will Use X-Rays to Hunt...</td>\n",
       "      <td>[PIXL, an instrument on the end of the Perseve...</td>\n",
       "    </tr>\n",
       "    <tr>\n",
       "      <th>1</th>\n",
       "      <td>[NASA Readies Perseverance Mars Rover's Earthl...</td>\n",
       "      <td>[Did you know NASA's next Mars rover has a nea...</td>\n",
       "    </tr>\n",
       "    <tr>\n",
       "      <th>2</th>\n",
       "      <td>[Global Storms on Mars Launch Dust Towers Into...</td>\n",
       "      <td>[A Mars Dust Tower Stands Out Dust storms are ...</td>\n",
       "    </tr>\n",
       "    <tr>\n",
       "      <th>3</th>\n",
       "      <td>[3 Things We've Learned From NASA's Mars InSig...</td>\n",
       "      <td>[Scientists are finding new mysteries since th...</td>\n",
       "    </tr>\n",
       "    <tr>\n",
       "      <th>4</th>\n",
       "      <td>[Sensors on Mars 2020 Spacecraft Answer Long-D...</td>\n",
       "      <td>[Instruments tailored to collect data during t...</td>\n",
       "    </tr>\n",
       "  </tbody>\n",
       "</table>\n",
       "</div>"
      ],
      "text/plain": [
       "                                               Title  \\\n",
       "0  [NASA's New Mars Rover Will Use X-Rays to Hunt...   \n",
       "1  [NASA Readies Perseverance Mars Rover's Earthl...   \n",
       "2  [Global Storms on Mars Launch Dust Towers Into...   \n",
       "3  [3 Things We've Learned From NASA's Mars InSig...   \n",
       "4  [Sensors on Mars 2020 Spacecraft Answer Long-D...   \n",
       "\n",
       "                                             Preview  \n",
       "0  [PIXL, an instrument on the end of the Perseve...  \n",
       "1  [Did you know NASA's next Mars rover has a nea...  \n",
       "2  [A Mars Dust Tower Stands Out Dust storms are ...  \n",
       "3  [Scientists are finding new mysteries since th...  \n",
       "4  [Instruments tailored to collect data during t...  "
      ]
     },
     "execution_count": 57,
     "metadata": {},
     "output_type": "execute_result"
    }
   ],
   "source": [
    "mars_news = pd.DataFrame(news_dict)\n",
    "mars_news.head"
   ]
  },
  {
   "cell_type": "code",
   "execution_count": 59,
   "metadata": {},
   "outputs": [],
   "source": [
    "browser.quit()"
   ]
  }
 ],
 "metadata": {
  "kernelspec": {
   "display_name": "Python 3 (ipykernel)",
   "language": "python",
   "name": "python3"
  },
  "language_info": {
   "codemirror_mode": {
    "name": "ipython",
    "version": 3
   },
   "file_extension": ".py",
   "mimetype": "text/x-python",
   "name": "python",
   "nbconvert_exporter": "python",
   "pygments_lexer": "ipython3",
   "version": "3.9.12"
  }
 },
 "nbformat": 4,
 "nbformat_minor": 4
}
